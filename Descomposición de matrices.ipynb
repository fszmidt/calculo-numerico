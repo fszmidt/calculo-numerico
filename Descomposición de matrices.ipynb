{
 "cells": [
  {
   "cell_type": "code",
   "execution_count": 1,
   "metadata": {},
   "outputs": [],
   "source": [
    "import numpy as np"
   ]
  },
  {
   "cell_type": "markdown",
   "metadata": {},
   "source": [
    "# Descomposición de matrices\n",
    "\n",
    "## Descomposición LU\n",
    "\n",
    "- Consiste en descomponer una matriz cuadrada en una triangular inferior L y una triangular superior U. Para eso se triangula A y se despeja U tal que A=LU.\n",
    "\n",
    "- Primero se encuentra U, a partir de: $u_{ij} = a_{ij} - \\sum_{k=1}^{i-1} u_{kj}l_{ik}$\n",
    "\n",
    "- Después se encuentra L, a partir de: $l_{ij}= \\frac{1}{u_{jj}}(a_{ij}-\\sum_{k=1}^{j-1}u_{kj}l_{ik})$"
   ]
  },
  {
   "cell_type": "code",
   "execution_count": 8,
   "metadata": {},
   "outputs": [
    {
     "name": "stdout",
     "output_type": "stream",
     "text": [
      "A= [[ 2 -2  1]\n",
      " [ 0  1  2]\n",
      " [ 5  3  1]]\n",
      "L= [[1.  0.  0. ]\n",
      " [0.  1.  0. ]\n",
      " [2.5 0.  1. ]]\n",
      "U= [[ 2.  -2.   1. ]\n",
      " [ 0.   1.   2. ]\n",
      " [ 0.   8.  -1.5]]\n",
      "LU= [[ 2. -2.  1.]\n",
      " [ 0.  1.  2.]\n",
      " [ 5.  3.  1.]]\n"
     ]
    }
   ],
   "source": [
    "def LU(A): \n",
    "    n = np.shape(A)[0]\n",
    "    L=np.zeros((n,n))\n",
    "    U=np.zeros((n,n))\n",
    "    for i in range(n):\n",
    "        for j in range(i-1):\n",
    "            sum=0\n",
    "            for k in range (j-1):\n",
    "                sum+=L[i][k]*U[k][j]\n",
    "            L[i][j]=(A[i][j]-sum)/U[j][j]\n",
    "        L[i][i]=1\n",
    "        for j in range(i-1,n):\n",
    "            sum1=0\n",
    "            for k in range(i-1):\n",
    "                sum1+=L[i][k]*U[k][j]\n",
    "            U[i][j] = A[i][j]-sum1\n",
    "    return(L,U)\n",
    "\n",
    "\n",
    "\n"
   ]
  },
  {
   "cell_type": "code",
   "execution_count": null,
   "metadata": {},
   "outputs": [],
   "source": [
    "# Ejemplo:\n",
    "\n",
    "A = np.array([[2,-2,1],[0,1,2],[5,3,1]])      #Defino la matriz como un array\n",
    "\n",
    "L,U = LU(A)                                   #Calculo las matrices LU\n",
    "print('A=',A)\n",
    "print('L=',L)\n",
    "print('U=',U)\n",
    "print('LU=',np.dot(L,U))                      #Chequeo que A=LU\n"
   ]
  },
  {
   "cell_type": "markdown",
   "metadata": {},
   "source": [
    "## Descomposición QR, con Gram-Schmidt\n",
    "\n",
    "- Consiste en descomponer una matriz no necesariamente cuadrada en una $Q$ ortonormal $(Q\\cdot Q^{t}=I)$ y otra triangular superior.\n",
    "- En el método de Gram-Schmidt, si $v_{i}$ son las columnas de $A, u_{1}=\\frac{v_{1}}{||v_{1}||},u_{n}=\\frac{v_{n}-\\sum_{i=1}^{n-1}\\left(v_{n}\\cdot u_{i}\\right)u_{i}}{||v_{n}-\\sum_{i=1}^{n-1}\\left(v_{n}\\cdot u_{i}\\right)u_{i}||}$."
   ]
  },
  {
   "cell_type": "code",
   "execution_count": 5,
   "metadata": {},
   "outputs": [],
   "source": [
    "import numpy as np\n",
    "\n",
    "def normal(v):\n",
    "    normal = v / np.linalg.norm(v)\n",
    "    return(normal)\n",
    "\n",
    "def gran_yo(A):\n",
    "    if np.shape(A)[1]>np.shape(A)[0]:\n",
    "        A = np.transpose(A)\n",
    "    Q = np.array([normal(A[:,0])])    \n",
    "    for i in range(1,np.shape(A)[1]):\n",
    "        v = A[:,i]\n",
    "        for j in range(0,i):\n",
    "            v = v-np.dot(v,Q[j])*Q[j]\n",
    "        u = normal(v)\n",
    "        Q = np.append(Q,[u],axis=0)\n",
    "    R = np.dot(Q,A)\n",
    "    Q = np.transpose(Q)\n",
    "    return(Q,R)"
   ]
  },
  {
   "cell_type": "code",
   "execution_count": 15,
   "metadata": {},
   "outputs": [
    {
     "name": "stdout",
     "output_type": "stream",
     "text": [
      "QR= [[ 2.00000000e+00 -2.00000000e+00  1.00000000e+00]\n",
      " [-1.33554269e-15  1.00000000e+00  2.00000000e+00]\n",
      " [ 5.00000000e+00  3.00000000e+00  1.00000000e+00]]\n",
      "q1*q2= -1.1102230246251565e-16\n",
      "q1*q3= 1.249000902703301e-16\n",
      "q2*q3= -2.0816681711721685e-16\n",
      "q1*q1= 0.9999999999999999\n",
      "q1*q1= 0.9999999999999999\n",
      "q1*q1= 1.0\n"
     ]
    }
   ],
   "source": [
    "#Ejemplo\n",
    "\n",
    "A = np.array([[2,-2,1],[0,1,2],[5,3,1]])      #Defino la matriz como un array\n",
    "\n",
    "Q,R = gran_yo(A)\n",
    "\n",
    "print('QR=',np.dot(Q,R))                                      #Chequeo que A = QR\n",
    "\n",
    "print('q1*q2=',np.dot(Q[0],Q[1]))                             #Chequeo que las columnas de Q son ortogonales\n",
    "print('q1*q3=',np.dot(Q[0],Q[2]))\n",
    "print('q2*q3=',np.dot(Q[1],Q[2]))\n",
    "\n",
    "print('q1*q1=',np.dot(Q[0],Q[0]))                             #Chequeo que las columnas de Q tengan norma 1\n",
    "print('q1*q1=',np.dot(Q[1],Q[1]))\n",
    "print('q1*q1=',np.dot(Q[2],Q[2]))"
   ]
  },
  {
   "cell_type": "markdown",
   "metadata": {},
   "source": [
    "## SVD\n",
    "\n",
    "- Si $A\\in R^{m\\times n}$, los valores singulares de $A$ son la raíz de los autovalores de $A^t A$.\n",
    "– Para $m\\geq n$, una descomposición en valores singulares de $A_{m\\times n}$ es $A=U\\Sigma V^{t}$\n",
    "\n",
    "con $U\\in R^{m\\times m},V\\in R^{n\\times n}$, ortogonales y $\\Sigma\\in R^{m\\times n}$ diagonal de la forma \n",
    "$\n",
    "\\Sigma=\\left(\\begin{array}{cccc}\n",
    "\\sigma_{1} & 0 & \\cdots & 0\\\\\n",
    "0 & \\sigma_{2} & \\cdots & 0\\\\\n",
    "\\vdots &  &  & \\sigma_{n}\\\\\n",
    "0 & \\cdots & \\cdots & 0\\\\\n",
    "\\vdots &  &  & \\vdots\\\\\n",
    "0 & \\cdots & \\cdots & 0\n",
    "\\end{array}\\right)\n",
    "$"
   ]
  },
  {
   "cell_type": "code",
   "execution_count": 22,
   "metadata": {},
   "outputs": [
    {
     "name": "stdout",
     "output_type": "stream",
     "text": [
      "U*S*V= [[1. 2. 3.]\n",
      " [4. 5. 6.]]\n"
     ]
    }
   ],
   "source": [
    "#Para esto uso directamente la versión de numpy\n",
    "A = np.array([[1,2,3],[4,5,6]])\n",
    "\n",
    "U,s,V = np.linalg.svd(A)\n",
    "S = np.zeros((A.shape[0],A.shape[1]))\n",
    "S[:len(s), :len(s)] = np.diag(s)\n",
    "\n",
    "print('U*S*V=',np.dot(U,np.dot(S,V)))\n",
    "\n"
   ]
  }
 ],
 "metadata": {
  "kernelspec": {
   "display_name": "Python 3",
   "language": "python",
   "name": "python3"
  },
  "language_info": {
   "codemirror_mode": {
    "name": "ipython",
    "version": 3
   },
   "file_extension": ".py",
   "mimetype": "text/x-python",
   "name": "python",
   "nbconvert_exporter": "python",
   "pygments_lexer": "ipython3",
   "version": "3.7.3"
  }
 },
 "nbformat": 4,
 "nbformat_minor": 2
}
