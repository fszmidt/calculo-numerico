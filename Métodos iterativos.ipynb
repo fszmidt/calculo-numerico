{
 "cells": [
  {
   "cell_type": "code",
   "execution_count": 2,
   "metadata": {},
   "outputs": [],
   "source": [
    "import numpy as np "
   ]
  },
  {
   "cell_type": "markdown",
   "metadata": {},
   "source": [
    "# Métodos iterativos para resolución de sistemas lineales\n",
    "\n",
    "## Jacobi\n",
    "\n",
    "- La iteración es de la forma $ x_{n+1}=-D^{-1}\\left(L+U\\right)x_{n}+D^{-1}b $.\n",
    "- Los autovalores de la matriz del método se obtienen mediante $det\\left(\\lambda D+L+U\\right)=0$."
   ]
  },
  {
   "cell_type": "code",
   "execution_count": 9,
   "metadata": {},
   "outputs": [],
   "source": [
    "def jacobi(A,b,x0,max,tol):\n",
    "  \n",
    "    D = np.diag(np.diag(A))\n",
    "    L = np.tril(A,k=-1)\n",
    "    U = np.triu(A,k=1)\n",
    "            \n",
    "    N = L + U\n",
    "    Dinv = np.linalg.inv(D)\n",
    "        \n",
    "    B = np.dot(Dinv,b)\n",
    "    C = np.dot(Dinv,N)  \n",
    "    \n",
    "    xN = x0\n",
    "    resto = 1\n",
    "    i = 0\n",
    "    while i < max and resto > tol: \n",
    "        xN = B - np.dot(C,xN)\n",
    "        i = i+1\n",
    "        resto = np.linalg.norm(np.dot(A,xN)-b)\n",
    "    if i == max:\n",
    "        print('Número máximo de iteraciones alcanzado')\n",
    "    return(xN,str(i)+' iteraciones')"
   ]
  },
  {
   "cell_type": "code",
   "execution_count": 10,
   "metadata": {},
   "outputs": [
    {
     "name": "stdout",
     "output_type": "stream",
     "text": [
      "Número máximo de iteraciones alcanzado\n"
     ]
    },
    {
     "data": {
      "text/plain": [
       "(array([ 383.54813957,   63.75802326, -127.51604652]), '15 iteraciones')"
      ]
     },
     "execution_count": 10,
     "metadata": {},
     "output_type": "execute_result"
    }
   ],
   "source": [
    "# Ejemplo\n",
    "\n",
    "A = np.array([[1,0,3],[0,2,1],[2,1,3]])\n",
    "b = np.array([1,0,0])\n",
    "\n",
    "jacobi(A,b,[0,0,0],15,0.001)\n",
    "            "
   ]
  },
  {
   "cell_type": "markdown",
   "metadata": {},
   "source": [
    "## Gauss - Seidel\n",
    "\n",
    "- La iteración es $x_{n+1}=-\\left(D+L\\right)^{-1}Ux_{n}+\\left(D+L\\right)^{-1}b$.\n",
    "- Los autovalores de la matriz del método se obtienen mediante $det\\left(\\lambda D+\\lambda L+U\\right)=0$."
   ]
  },
  {
   "cell_type": "code",
   "execution_count": 11,
   "metadata": {},
   "outputs": [],
   "source": [
    "def gauss_seidel(A,b,x0,max,tol):\n",
    "    D = np.diag(np.diag(A))\n",
    "    L = np.tril(A,k=-1)\n",
    "    U = np.triu(A,k=1)   \n",
    "            \n",
    "    N = np.linalg.inv(D + L)\n",
    "        \n",
    "    B = np.dot(N,b)\n",
    "    C = np.dot(N,U)  \n",
    "    \n",
    "    xN = x0\n",
    "    resto = 1\n",
    "    i = 0\n",
    "    while i < max and resto > tol: \n",
    "        xN = B - np.dot(C,xN)\n",
    "        i = i+1\n",
    "        resto = np.linalg.norm(np.dot(A,xN)-b)\n",
    "    if i == max:\n",
    "        print('Número máximo de iteraciones alcanzado')\n",
    "    return(xN,str(i)+' iteraciones')"
   ]
  },
  {
   "cell_type": "code",
   "execution_count": 12,
   "metadata": {},
   "outputs": [
    {
     "name": "stdout",
     "output_type": "stream",
     "text": [
      "Número máximo de iteraciones alcanzado\n"
     ]
    },
    {
     "data": {
      "text/plain": [
       "(array([ 86132.89241621,  14355.3154027 , -62207.03341171]), '15 iteraciones')"
      ]
     },
     "execution_count": 12,
     "metadata": {},
     "output_type": "execute_result"
    }
   ],
   "source": [
    "# Ejemplo\n",
    "\n",
    "A = np.array([[1,0,3],[0,2,1],[2,1,3]])\n",
    "b = np.array([1,0,0])\n",
    "\n",
    "gauss_seidel(A,b,[0,0,0],15,0.001)"
   ]
  }
 ],
 "metadata": {
  "kernelspec": {
   "display_name": "Python 3",
   "language": "python",
   "name": "python3"
  },
  "language_info": {
   "codemirror_mode": {
    "name": "ipython",
    "version": 3
   },
   "file_extension": ".py",
   "mimetype": "text/x-python",
   "name": "python",
   "nbconvert_exporter": "python",
   "pygments_lexer": "ipython3",
   "version": "3.7.3"
  }
 },
 "nbformat": 4,
 "nbformat_minor": 2
}
