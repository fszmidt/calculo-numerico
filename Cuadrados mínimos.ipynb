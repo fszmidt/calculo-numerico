{
 "cells": [
  {
   "cell_type": "code",
   "execution_count": 6,
   "metadata": {},
   "outputs": [],
   "source": [
    "import numpy as np\n",
    "import matplotlib.pyplot as plt"
   ]
  },
  {
   "cell_type": "markdown",
   "metadata": {},
   "source": [
    "# Cuadrados mínimos\n",
    "\n",
    "\n",
    "- Para un conjunto de datos $\\left\\{ \\left(x_{1},y_{1}\\right),...,\\left(x_{m},y_{m}\\right)\\right\\}$ , los coeficientes se encuentran resolviendo el sistema lineal\n",
    "\n",
    "$\n",
    "\\left(\\begin{array}{cccc}\n",
    "f_{1}(x_{1}) & f_{2}(x_{1}) & \\cdots & f_{n}(x_{1})\\\\\n",
    "f_{1}(x_{2}) & \\cdots & \\cdots & f_{n}(x_{2})\\\\\n",
    "\\vdots &  &  & \\vdots\\\\\n",
    "f_{1}(x_{m}) & f_{2}(x_{m}) & \\cdots & f_{n}(x_{m})\n",
    "\\end{array}\\right)\\left(\\begin{array}{c}\n",
    "a_{1}\\\\\n",
    "a_{2}\\\\\n",
    "\\vdots\\\\\n",
    "a_{m}\n",
    "\\end{array}\\right)=\\left(\\begin{array}{c}\n",
    "y_{1}\\\\\n",
    "y_{2}\\\\\n",
    "\\vdots\\\\\n",
    "y_{m}\n",
    "\\end{array}\\right)\n",
    "$\n",
    "\n",
    "El siguiente método sirve para ajustar por cuadrados mínimos funciones de tipo polinómicas o senoidales:"
   ]
  },
  {
   "cell_type": "code",
   "execution_count": 1,
   "metadata": {},
   "outputs": [],
   "source": [
    "def matriz_A(x,n,tipo):\n",
    "    nx = len(x)\n",
    "    A = np.zeros((nx,n))\n",
    "    if tipo == 'polinomial':\n",
    "        for i in range(nx):\n",
    "            for j in range(n):\n",
    "                A[i][j] = x[i]**j\n",
    "    elif tipo == 'senoidal':\n",
    "        for i in range(nx):\n",
    "            for j in range(n):\n",
    "                A[i][j] = np.sin((j+1)*x[i])\n",
    "    return(A)\n",
    "    \n",
    "def cuadrados(x,y,n,tipo):\n",
    "    A = matriz_A(x,n,tipo)\n",
    "    B = np.dot(np.transpose(A),A)\n",
    "    c = np.dot(np.dot(np.linalg.inv(B),np.transpose(A)),y)\n",
    "    return(c)\n",
    "\n",
    "def genera_ajustador(c,tipo):\n",
    "    if tipo=='polinomial':\n",
    "        def function(z):\n",
    "            w=0\n",
    "            for j in range(len(c)):\n",
    "                w += c[j]*z**j\n",
    "            return(w)\n",
    "    elif tipo=='senoidal':\n",
    "        def function(z):\n",
    "            w=0\n",
    "            for j in range(len(c)):\n",
    "                w += c[j]*np.sin((j+1)*z)\n",
    "            return(w)\n",
    "    return(function)"
   ]
  },
  {
   "cell_type": "code",
   "execution_count": 8,
   "metadata": {},
   "outputs": [
    {
     "data": {
      "text/plain": [
       "Text(0, 0.5, 'y')"
      ]
     },
     "execution_count": 8,
     "metadata": {},
     "output_type": "execute_result"
    },
    {
     "data": {
      "image/png": "[encoded data removed]",
      "text/plain": [
       "<Figure size 432x288 with 1 Axes>"
      ]
     },
     "metadata": {
      "needs_background": "light"
     },
     "output_type": "display_data"
    }
   ],
   "source": [
    "#Ejemplo:\n",
    "\n",
    "x = np.linspace(0,np.pi,10)\n",
    "y = np.sin(x)\n",
    "\n",
    "\n",
    "cpol = cuadrados(x,y,3,'polinomial')            #Calculo los coeficientes del ajuste polinómico\n",
    "csin = cuadrados(x,y,3,'senoidal')              #Calculo los coeficientes del ajuste sinusoidal\n",
    "\n",
    "Ppol = genera_ajustador(cpol,'polinomial')      #Defino la función que ajusta a partir de los coeficientes hallados\n",
    "Psin = genera_ajustador(csin,'senoidal')\n",
    "\n",
    "plt.scatter(x,y, label = 'sin(x)')\n",
    "plt.plot(x,Ppol(x), label = 'Ajuste polinomial')\n",
    "plt.plot(x,Psin(x), label = 'Ajuste senoidal')\n",
    "plt.grid()\n",
    "plt.legend()\n",
    "plt.xlabel('x')\n",
    "plt.ylabel('y')\n"
   ]
  }
 ],
 "metadata": {
  "kernelspec": {
   "display_name": "Python 3",
   "language": "python",
   "name": "python3"
  },
  "language_info": {
   "codemirror_mode": {
    "name": "ipython",
    "version": 3
   },
   "file_extension": ".py",
   "mimetype": "text/x-python",
   "name": "python",
   "nbconvert_exporter": "python",
   "pygments_lexer": "ipython3",
   "version": "3.7.3"
  }
 },
 "nbformat": 4,
 "nbformat_minor": 2
}
