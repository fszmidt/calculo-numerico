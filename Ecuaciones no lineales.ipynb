{
 "cells": [
  {
   "cell_type": "code",
   "execution_count": 8,
   "metadata": {},
   "outputs": [],
   "source": [
    "import numpy as np\n",
    "import sympy as sp"
   ]
  },
  {
   "cell_type": "markdown",
   "metadata": {},
   "source": [
    "# Ecuaciones no lineales\n",
    "\n",
    "## Bisección\n",
    "\n",
    "- Se elige un intervalo $\\left[a,b\\right]$ tal que $f(a)\\cdot f(b)<0$.\n",
    "- $x=\\frac{a+b}{2}$.\n",
    "- Si $f(x)=0$, termina. Sino, si $sign(f(x))=sign(f(a))$ se toma $a=x$, y si no, se toma $x=b$."
   ]
  },
  {
   "cell_type": "code",
   "execution_count": 12,
   "metadata": {},
   "outputs": [],
   "source": [
    "def definidor(F):\n",
    "    x = sp.symbols('x')\n",
    "    f = sp.lambdify(x,F,'numpy')\n",
    "    return(f)\n",
    "\n",
    "def biseccion(F,a,b,tol,max):\n",
    "    f = definidor(F)\n",
    "    \n",
    "    if f(a)==0:\n",
    "        x = a\n",
    "    elif f(b)==0:\n",
    "        x = b\n",
    "    elif f(a)*f(b)>0:\n",
    "        print('La función no cambia de signo en el intervalo')\n",
    "    else:\n",
    "        x = (a+b)/2\n",
    "        i = 1\n",
    "        while abs(f(x))>tol and i<max:\n",
    "            if f(a)*f(x)>0:\n",
    "                a = x\n",
    "                x = (a+b)/2\n",
    "            else:\n",
    "                b = x\n",
    "                x = (a+b)/2\n",
    "            i = i+1\n",
    "        if f(x)==0:\n",
    "            print('La raíz es exacta')\n",
    "        else:\n",
    "            print('El error es',abs((b-a)/(2**i)))\n",
    "    return(x)\n",
    "\n",
    "\n"
   ]
  },
  {
   "cell_type": "code",
   "execution_count": 30,
   "metadata": {},
   "outputs": [
    {
     "name": "stdout",
     "output_type": "stream",
     "text": [
      "El error es 3.814697265625e-06\n"
     ]
    },
    {
     "data": {
      "text/plain": [
       "0.833984375"
      ]
     },
     "execution_count": 30,
     "metadata": {},
     "output_type": "execute_result"
    }
   ],
   "source": [
    "# Ejemplo\n",
    "\n",
    "biseccion('exp(x**2)-2',0,2,0.001,10)"
   ]
  },
  {
   "cell_type": "markdown",
   "metadata": {},
   "source": [
    "## Regula falsi\n",
    "\n",
    "- Se elige un intervalo $\\left[a,b\\right]$ tal que $f(a)\\cdot f(b)<0$.\n",
    "\n",
    "- Se calcula $x=\\frac{a\\cdot f(b)-b\\cdot f(a)}{f(b)-f(a)}$. Si $f(x)=0$, termina. Si $sign(f(x))=sign(f(a))$ se toma $a=x$, si no, se toma $b=x$ y se repite hasta cumplir el criterio de parada.\n"
   ]
  },
  {
   "cell_type": "code",
   "execution_count": 25,
   "metadata": {},
   "outputs": [],
   "source": [
    "def RF(F,a,b,tol,max):\n",
    "    f = definidor(F)\n",
    "    \n",
    "    if f(a)==0:\n",
    "        x = a\n",
    "    elif f(b)==0:\n",
    "        x = b\n",
    "    elif f(a)*f(b)>0:\n",
    "        print('La función no cambia de signo en el intervalo')\n",
    "    else:\n",
    "        x = (a*f(b)-b*f(a))/(f(b)-f(a))\n",
    "        i = 1\n",
    "        while abs(f(x))>tol and i<max:\n",
    "            if f(a)*f(x)>0:\n",
    "                a = x\n",
    "                x = (a*f(b)-b*f(a))/(f(b)-f(a))\n",
    "            else:\n",
    "                b = x\n",
    "                x = (a*f(b)-b*f(a))/(f(b)-f(a))\n",
    "            i = i+1\n",
    "        if f(x)==0:\n",
    "            print('La raíz es exacta')\n",
    "        else:\n",
    "            print('El error es',abs((b-a)/(2**i)))\n",
    "    return(x)\n",
    "        \n"
   ]
  },
  {
   "cell_type": "code",
   "execution_count": 29,
   "metadata": {},
   "outputs": [
    {
     "name": "stdout",
     "output_type": "stream",
     "text": [
      "El error es 0.0006544552141267953\n"
     ]
    },
    {
     "data": {
      "text/plain": [
       "0.8325333299667445"
      ]
     },
     "execution_count": 29,
     "metadata": {},
     "output_type": "execute_result"
    }
   ],
   "source": [
    "# Ejemplo\n",
    "\n",
    "RF('exp(x**2)-2',-1/2,1,0.0001,10)"
   ]
  },
  {
   "cell_type": "markdown",
   "metadata": {},
   "source": [
    "## Newton-Raphson\n",
    "\n",
    "- Se elige un $x_{0}$ inicial.\n",
    "\n",
    "- Se calcula recta tangente en ese punto y se busca su raíz, luego se itera hasta cumplir el criterio de parada. Es decir $x_{n+1}=x_{n}-\\frac{f\\left(x_{n}\\right)}{f'\\left(x_{n}\\right)}$."
   ]
  },
  {
   "cell_type": "code",
   "execution_count": 32,
   "metadata": {},
   "outputs": [],
   "source": [
    "def definidor(f):\n",
    "    x = sp.symbols('x')\n",
    "    f_prima = sp.diff(f,x)\n",
    "    F = sp.lambdify(x,f)\n",
    "    F_prima = sp.lambdify(x,f_prima)\n",
    "    return(F,F_prima)\n",
    "\n",
    "\n",
    "    \n",
    "def NR(F,x0,max,tol):\n",
    "    f,f_prima = definidor(F)\n",
    "    x = np.empty(shape=(0,0))\n",
    "    x = np.append(x,x0)\n",
    "    i = 1\n",
    "    while abs(f(x[-1]))>tol and i<max:\n",
    "        x1 = x[-1]-(f(x[-1])/f_prima(x[-1]))\n",
    "        x = np.append(x,x1)\n",
    "        i = i+1\n",
    "    return(x[-1])\n",
    "\n"
   ]
  },
  {
   "cell_type": "code",
   "execution_count": 33,
   "metadata": {},
   "outputs": [
    {
     "data": {
      "text/plain": [
       "-0.8325546111844615"
      ]
     },
     "execution_count": 33,
     "metadata": {},
     "output_type": "execute_result"
    }
   ],
   "source": [
    "# Ejemplo\n",
    "\n",
    "NR('exp(x**2)-2',-1,50,0.000001)"
   ]
  },
  {
   "cell_type": "markdown",
   "metadata": {},
   "source": [
    "## Método de la secante\n",
    "\n",
    "Es similar a Newton Raphson, pero se usan diferencias divididas backward en vez de f'. La iteración queda\n",
    "\n",
    "$x_{n+1}=x_{n}-f(x_{n})\\cdot\\frac{x_{n}-x_{n-1}}{f(x_{n})-f(x_{n-1})}=\\frac{x_{n-1}f\\left(x_{n}\\right)-x_{n}f\\left(x_{n-1}\\right)}{f\\left(x_{n}\\right)-f\\left(x_{n-1}\\right)}$"
   ]
  },
  {
   "cell_type": "code",
   "execution_count": 34,
   "metadata": {},
   "outputs": [],
   "source": [
    "def definidor(F):\n",
    "    x = sp.symbols('x')\n",
    "    f = sp.lambdify(x,F)\n",
    "    return(f)\n",
    "\n",
    "def secante(F,x0,x1,max,tol):\n",
    "    f = definidor(F)\n",
    "    x = np.empty(shape=(0,0))\n",
    "    x = np.append(x,x0)\n",
    "    x = np.append(x,x1)\n",
    "    x[1] = x1\n",
    "    i = 1\n",
    "    while abs(f(x[-1]))>tol and i<max:\n",
    "        x_nuevo = (x[-2]*f(x[-1])-x[-1]*f(x[-2]))/(f(x[-1]-f(x[-2])))\n",
    "        x = np.append(x,x_nuevo)\n",
    "        i = i+1\n",
    "    return(x[-1])"
   ]
  },
  {
   "cell_type": "code",
   "execution_count": 35,
   "metadata": {},
   "outputs": [
    {
     "data": {
      "text/plain": [
       "0.0002541326760550523"
      ]
     },
     "execution_count": 35,
     "metadata": {},
     "output_type": "execute_result"
    }
   ],
   "source": [
    "#Ejemplo\n",
    "\n",
    "secante('exp(x**2)-2',0,0.5,10,0.001)"
   ]
  }
 ],
 "metadata": {
  "kernelspec": {
   "display_name": "Python 3",
   "language": "python",
   "name": "python3"
  },
  "language_info": {
   "codemirror_mode": {
    "name": "ipython",
    "version": 3
   },
   "file_extension": ".py",
   "mimetype": "text/x-python",
   "name": "python",
   "nbconvert_exporter": "python",
   "pygments_lexer": "ipython3",
   "version": "3.7.3"
  }
 },
 "nbformat": 4,
 "nbformat_minor": 2
}
