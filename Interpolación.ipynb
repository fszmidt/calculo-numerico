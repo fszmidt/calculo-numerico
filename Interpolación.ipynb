{
 "cells": [
  {
   "cell_type": "markdown",
   "metadata": {},
   "source": [
    "# Interpolación\n",
    "\n",
    "- Se utiliza Jacobi para resolver la matriz de interpolación"
   ]
  },
  {
   "cell_type": "code",
   "execution_count": 1,
   "metadata": {},
   "outputs": [],
   "source": [
    "def jacobi(A,b,x0,max,tol):\n",
    "  \n",
    "    D = np.diag(np.diag(A))\n",
    "    L = np.tril(A,k=-1)\n",
    "    U = np.triu(A,k=1)    \n",
    "            \n",
    "    N = L + U\n",
    "    Dinv = np.linalg.inv(D)\n",
    "        \n",
    "    B = np.dot(Dinv,b)\n",
    "    C = np.dot(Dinv,N)  \n",
    "    \n",
    "    xN = x0\n",
    "    resto = 1\n",
    "    i = 0\n",
    "    while i < max and resto > tol: \n",
    "        xN = B - np.dot(C,xN)\n",
    "        i = i+1\n",
    "        resto = np.linalg.norm(np.dot(A,xN)-b)\n",
    "    if i == max:\n",
    "        print('Número máximo de iteraciones alcanzado')\n",
    "    return(xN,i)\n",
    "\n",
    "def matriz_dif(x):\n",
    "    A = np.zeros((len(x),len(x)))\n",
    "    A[:,0]=1\n",
    "    for q in range(len(x)):\n",
    "        for r in range(1,q+1):\n",
    "        A[q,r] = (x[q]-x[r-1])*A[q,r-1]\n",
    "    return(A)\n",
    "\n",
    "def newton_dif(x,y,max_iter,tol):\n",
    "    A = matriz_dif(x)\n",
    "    b = y\n",
    "    x0 = np.zeros(len(y))\n",
    "    coef = jacobi(A,b,x0,max_iter,tol)\n",
    "    return(coef)\n",
    "\n",
    "def funcion_interpol(x,y,max_iter,tol):\n",
    "    coef = newton_dif(x,y,max_iter,tol)[0]\n",
    "    def function(t):\n",
    "        X = np.ones(len(coef))\n",
    "        P = coef[0]\n",
    "        for i in range(1,len(coef)):\n",
    "            X[i] = (t-x[i-1])*X[i-1]\n",
    "            P = P + coef[i]*X[i]\n",
    "        return(P)\n",
    "    return(function)"
   ]
  }
 ],
 "metadata": {
  "kernelspec": {
   "display_name": "Python 3",
   "language": "python",
   "name": "python3"
  },
  "language_info": {
   "codemirror_mode": {
    "name": "ipython",
    "version": 3
   },
   "file_extension": ".py",
   "mimetype": "text/x-python",
   "name": "python",
   "nbconvert_exporter": "python",
   "pygments_lexer": "ipython3",
   "version": "3.7.3"
  }
 },
 "nbformat": 4,
 "nbformat_minor": 2
}
