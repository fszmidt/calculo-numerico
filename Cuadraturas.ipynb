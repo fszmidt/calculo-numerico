{
 "cells": [
  {
   "cell_type": "markdown",
   "metadata": {},
   "source": [
    "# Cuadraturas\n",
    "\n",
    "## Trapecios\n",
    "\n",
    "- Consiste en aproximar la integral mediante : $\\int_a^b f(x)dx\\sim T(f)=\\frac{b-a}{2}\\left(f(a)+f(b)\\right)$"
   ]
  },
  {
   "cell_type": "code",
   "execution_count": 6,
   "metadata": {},
   "outputs": [],
   "source": [
    "import numpy as np\n",
    "import matplotlib.pyplot as plt"
   ]
  },
  {
   "cell_type": "code",
   "execution_count": 9,
   "metadata": {},
   "outputs": [],
   "source": [
    "def q_trapecios(f,a,b,n):\n",
    "    q = 0 # arranco la cuadratura en 0\n",
    "    paso = (b-a)/n # Este es el paso de mi intervalo\n",
    "    x0 = a #Voy evaluando f en el principio y final del intervalo\n",
    "    f0 = f(x0)\n",
    "    while x0<b: # Hasta llegar a b\n",
    "        x1  = x0+paso # El segundo punto\n",
    "        f1 = f(x1)\n",
    "        q += (f1+f0)/2*paso # Sumo la cuadratura de ese paso\n",
    "        x0 = x1 # Actualizo valores\n",
    "        f0 = f1\n",
    "    return(q)"
   ]
  },
  {
   "cell_type": "code",
   "execution_count": 10,
   "metadata": {},
   "outputs": [
    {
     "data": {
      "text/plain": [
       "1.5707963267948966"
      ]
     },
     "execution_count": 10,
     "metadata": {},
     "output_type": "execute_result"
    }
   ],
   "source": [
    "# Ejemplo:\n",
    "\n",
    "def f(x):                  #Defino la función a integrar\n",
    "    y = (np.cos(x))**2\n",
    "    return(y)\n",
    "\n",
    "q_trapecios(f,0,np.pi,10)  #Evalúo mi función con los extremos y la cantidad de puntos deseados\n",
    "\n"
   ]
  },
  {
   "cell_type": "markdown",
   "metadata": {},
   "source": [
    "## Simpson\n",
    "\n",
    "- Se aproxima el intervalo por una cuadrática. Resulta: $\\int_a^b f(x)dx\\sim\\frac{b-a}{6}\\left[f(a)+4f\\left(\\frac{a+b}{2}\\right)+f(b)\\right]$"
   ]
  },
  {
   "cell_type": "code",
   "execution_count": 12,
   "metadata": {},
   "outputs": [],
   "source": [
    "def q_simpson(f,a,b,n):\n",
    "    q = 0 \n",
    "    paso = (b-a)/n\n",
    "    h = paso/2 # Acá tenemos 2 pasos\n",
    "    x0 = a\n",
    "    f0 = f(x0)\n",
    "    while x0<b:\n",
    "        x1  = x0+paso\n",
    "        xh = x0+h\n",
    "        f1 = f(x1)\n",
    "        fh = f(xh)\n",
    "        q += h/3*(f0+4*fh+f1)\n",
    "        x0 = x1\n",
    "        f0 = f1\n",
    "    return(q)"
   ]
  },
  {
   "cell_type": "code",
   "execution_count": 13,
   "metadata": {},
   "outputs": [
    {
     "data": {
      "text/plain": [
       "1.5707963267948966"
      ]
     },
     "execution_count": 13,
     "metadata": {},
     "output_type": "execute_result"
    }
   ],
   "source": [
    "# El mismo ejemplo\n",
    "\n",
    "def f(x):                  #Defino la función a integrar\n",
    "    y = (np.cos(x))**2\n",
    "    return(y)\n",
    "\n",
    "q_simpson(f,0,np.pi,10)  #Evalúo mi función con los extremos y la cantidad de puntos deseados\n"
   ]
  }
 ],
 "metadata": {
  "kernelspec": {
   "display_name": "Python 3",
   "language": "python",
   "name": "python3"
  },
  "language_info": {
   "codemirror_mode": {
    "name": "ipython",
    "version": 3
   },
   "file_extension": ".py",
   "mimetype": "text/x-python",
   "name": "python",
   "nbconvert_exporter": "python",
   "pygments_lexer": "ipython3",
   "version": "3.7.3"
  }
 },
 "nbformat": 4,
 "nbformat_minor": 2
}
